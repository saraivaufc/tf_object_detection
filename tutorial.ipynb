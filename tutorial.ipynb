{
 "cells": [
  {
   "cell_type": "code",
   "execution_count": null,
   "metadata": {},
   "outputs": [],
   "source": [
    "import tensorflow as tf\n",
    "import numpy as np\n",
    "from matplotlib import pyplot as plt"
   ]
  },
  {
   "cell_type": "code",
   "execution_count": null,
   "metadata": {},
   "outputs": [],
   "source": [
    "import models\n",
    "import image_utils"
   ]
  },
  {
   "cell_type": "code",
   "execution_count": null,
   "metadata": {},
   "outputs": [],
   "source": [
    "image_width = 256\n",
    "image_height = 256\n",
    "channels = 4\n",
    "extension = '.tif'\n",
    "classes = {\n",
    "    'pivot': 0,\n",
    "    'infra': 1,\n",
    "}\n",
    "num_classes = len(classes)\n",
    "weights_path = \"weights\""
   ]
  },
  {
   "cell_type": "code",
   "execution_count": null,
   "metadata": {},
   "outputs": [],
   "source": [
    "model = models.get_model(image_width, image_height, channels, num_classes, learning_rate=0.00001)"
   ]
  },
  {
   "cell_type": "code",
   "execution_count": null,
   "metadata": {
    "scrolled": true
   },
   "outputs": [],
   "source": [
    "features, target = image_utils.load_data(\"data/train\", classes, image_width, image_height, extension, dargumentation_enabled=True)"
   ]
  },
  {
   "cell_type": "code",
   "execution_count": null,
   "metadata": {
    "scrolled": false
   },
   "outputs": [],
   "source": [
    "classifier = tf.estimator.Estimator(model_fn=model, model_dir=weights_path)"
   ]
  },
  {
   "cell_type": "code",
   "execution_count": null,
   "metadata": {},
   "outputs": [],
   "source": [
    "logging_hook = tf.train.LoggingTensorHook(tensors={\"probabilities\": \"softmax_tensor\"}, every_n_iter=50)"
   ]
  },
  {
   "cell_type": "code",
   "execution_count": null,
   "metadata": {},
   "outputs": [],
   "source": [
    "epochs=5\n",
    "batch_size=100"
   ]
  },
  {
   "cell_type": "code",
   "execution_count": null,
   "metadata": {},
   "outputs": [],
   "source": [
    "train_input_fn = tf.estimator.inputs.numpy_input_fn(\n",
    "    x={\"x\": features},\n",
    "    y=np.asarray(target, dtype=np.int32),\n",
    "    batch_size=batch_size,\n",
    "    num_epochs=epochs,\n",
    "    shuffle=True\n",
    ")"
   ]
  },
  {
   "cell_type": "code",
   "execution_count": null,
   "metadata": {
    "scrolled": true
   },
   "outputs": [],
   "source": [
    "classifier.train(input_fn=train_input_fn, hooks=[logging_hook])"
   ]
  },
  {
   "cell_type": "code",
   "execution_count": null,
   "metadata": {},
   "outputs": [],
   "source": [
    "validation_features, validation_target = image_utils.load_data(\"data/validation\", classes, image_width, image_height, extension)"
   ]
  },
  {
   "cell_type": "code",
   "execution_count": null,
   "metadata": {
    "scrolled": false
   },
   "outputs": [],
   "source": [
    "classifier = tf.estimator.Estimator(model_fn=model, model_dir=weights_path)"
   ]
  },
  {
   "cell_type": "code",
   "execution_count": null,
   "metadata": {},
   "outputs": [],
   "source": [
    "validation_input_fn = tf.estimator.inputs.numpy_input_fn(\n",
    "        x={\"x\": validation_features},\n",
    "        y=np.asarray(validation_target, dtype=np.int32),\n",
    "        num_epochs=1,\n",
    "        shuffle=False)"
   ]
  },
  {
   "cell_type": "code",
   "execution_count": null,
   "metadata": {},
   "outputs": [],
   "source": [
    "validation_results = classifier.evaluate(input_fn=validation_input_fn)\n",
    "print(validation_results)"
   ]
  },
  {
   "cell_type": "code",
   "execution_count": null,
   "metadata": {},
   "outputs": [],
   "source": [
    "pivot1 = image_utils.load_file(\"tests/pivot1.tif\", image_width, image_height)\n",
    "pivot2 = image_utils.load_file(\"tests/pivot2.tif\", image_width, image_height)\n",
    "pivot3 = image_utils.load_file(\"tests/pivot3.tif\", image_width, image_height)\n",
    "pivot4 = image_utils.load_file(\"tests/pivot4.tif\", image_width, image_height)\n",
    "\n",
    "\n",
    "fig, axes = plt.subplots(nrows=1, ncols=4, figsize=(8, 8), sharex=True, sharey=True)\n",
    "ax = axes.ravel()\n",
    "\n",
    "ax[0].imshow(pivot1, interpolation='nearest')\n",
    "ax[0].set_title(\"Pivot 1\")\n",
    "\n",
    "ax[1].imshow(pivot2, interpolation='nearest')\n",
    "ax[1].set_title(\"Pivot 2\")\n",
    "\n",
    "ax[2].imshow(pivot3, interpolation='nearest')\n",
    "ax[2].set_title(\"Pivot 3\")\n",
    "\n",
    "ax[3].imshow(pivot4,interpolation='nearest')\n",
    "ax[3].set_title(\"Pivot 4\")"
   ]
  },
  {
   "cell_type": "code",
   "execution_count": null,
   "metadata": {},
   "outputs": [],
   "source": []
  },
  {
   "cell_type": "code",
   "execution_count": null,
   "metadata": {},
   "outputs": [],
   "source": [
    "infra1 = image_utils.load_file(\"tests/infra1.tif\", image_width, image_height)\n",
    "infra2 = image_utils.load_file(\"tests/infra2.tif\", image_width, image_height)\n",
    "infra3 = image_utils.load_file(\"tests/infra3.tif\", image_width, image_height)\n",
    "infra4 = image_utils.load_file(\"tests/infra4.tif\", image_width, image_height)\n",
    "\n",
    "fig, axes = plt.subplots(nrows=1, ncols=4, figsize=(8, 8), sharex=True, sharey=True)\n",
    "ax = axes.ravel()\n",
    "\n",
    "ax[0].imshow(infra1, interpolation='nearest')\n",
    "ax[0].set_title(\"Pivot 1\")\n",
    "\n",
    "ax[1].imshow(infra2, interpolation='nearest')\n",
    "ax[1].set_title(\"Pivot 2\")\n",
    "\n",
    "ax[2].imshow(infra3, interpolation='nearest')\n",
    "ax[2].set_title(\"Pivot 3\")\n",
    "\n",
    "ax[3].imshow(infra4,interpolation='nearest')\n",
    "ax[3].set_title(\"Pivot 4\")\n"
   ]
  },
  {
   "cell_type": "code",
   "execution_count": null,
   "metadata": {},
   "outputs": [],
   "source": [
    "predict_input_fn = tf.estimator.inputs.numpy_input_fn(\n",
    "                    x={\"x\": np.asarray([pivot1, pivot2, pivot3, pivot4], dtype=np.float32)},\n",
    "                    shuffle=False,\n",
    "                    num_epochs=1,\n",
    "                )\n"
   ]
  },
  {
   "cell_type": "code",
   "execution_count": null,
   "metadata": {},
   "outputs": [],
   "source": [
    "results = classifier.predict(input_fn=predict_input_fn)"
   ]
  },
  {
   "cell_type": "code",
   "execution_count": null,
   "metadata": {},
   "outputs": [],
   "source": [
    "for r in results:\n",
    "    print(r)"
   ]
  },
  {
   "cell_type": "code",
   "execution_count": null,
   "metadata": {},
   "outputs": [],
   "source": [
    "predict_input_fn = tf.estimator.inputs.numpy_input_fn(\n",
    "                    x={\"x\": np.asarray([infra1, infra2, infra3, infra4], dtype=np.float32)},\n",
    "                    shuffle=False,\n",
    "                    num_epochs=1,\n",
    "                )"
   ]
  },
  {
   "cell_type": "code",
   "execution_count": null,
   "metadata": {},
   "outputs": [],
   "source": [
    "results = classifier.predict(input_fn=predict_input_fn)"
   ]
  },
  {
   "cell_type": "code",
   "execution_count": null,
   "metadata": {},
   "outputs": [],
   "source": [
    "for r in results:\n",
    "    print(r)"
   ]
  }
 ],
 "metadata": {
  "kernelspec": {
   "display_name": "Python 3",
   "language": "python",
   "name": "python3"
  },
  "language_info": {
   "codemirror_mode": {
    "name": "ipython",
    "version": 3
   },
   "file_extension": ".py",
   "mimetype": "text/x-python",
   "name": "python",
   "nbconvert_exporter": "python",
   "pygments_lexer": "ipython3",
   "version": "3.5.2"
  }
 },
 "nbformat": 4,
 "nbformat_minor": 2
}
